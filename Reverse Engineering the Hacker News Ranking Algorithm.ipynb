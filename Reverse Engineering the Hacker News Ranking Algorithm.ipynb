{
 "cells": [
  {
   "cell_type": "markdown",
   "metadata": {},
   "source": [
    "# Reverse Engineering the Hacker News Ranking Algorithm\n",
    "\n",
    "This notebook is a companion to the article [Reverse Engineering the Hacker News Ranking Algorithm](http://sangaline.com/post/reverse-engineering-the-hacker-news-ranking-algorithm).\n",
    "The code used to generate all of the figures in that post are included here, as is any analysis logic.\n",
    "Beyond that, annotations will be fairly minimal and you will need to refer to the article for more context.\n",
    "It probably makes the most sense to read the article first and then come back here if you're wondering how a specific plot was generated or if you need a starting point for doing your own analysis."
   ]
  },
  {
   "cell_type": "markdown",
   "metadata": {},
   "source": [
    "## Configuration and Settings\n",
    "\n",
    "Settings and imports used to create a consistent plotting style"
   ]
  },
  {
   "cell_type": "code",
   "execution_count": null,
   "metadata": {
    "collapsed": true
   },
   "outputs": [],
   "source": [
    "import os\n",
    "\n",
    "# NOTE: images will be saved out to this directory\n",
    "os.makedirs('img', exist_ok=True)\n",
    "\n",
    "%pylab inline\n",
    "import seaborn as sns\n",
    "\n",
    "sns.set_style(\"whitegrid\")\n",
    "sns.set_palette('colorblind')\n",
    "palette = sns.color_palette('colorblind')\n",
    "hex_palette = sns.cubehelix_palette(as_cmap=True, rot=0.8, hue=0.7, start=2, gamma=1.2, light=0.95)\n",
    "\n",
    "single_figsize = (6, 4)\n",
    "double_figsize = (12, 4)"
   ]
  }
 ],
 "metadata": {
  "kernelspec": {
   "display_name": "Python 3",
   "language": "python",
   "name": "python3"
  },
  "language_info": {
   "codemirror_mode": {
    "name": "ipython",
    "version": 3
   },
   "file_extension": ".py",
   "mimetype": "text/x-python",
   "name": "python",
   "nbconvert_exporter": "python",
   "pygments_lexer": "ipython3",
   "version": "3.6.0"
  }
 },
 "nbformat": 4,
 "nbformat_minor": 2
}
