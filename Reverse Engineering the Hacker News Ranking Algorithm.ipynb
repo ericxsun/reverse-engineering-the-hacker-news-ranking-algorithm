{
 "cells": [
  {
   "cell_type": "markdown",
   "metadata": {},
   "source": [
    "# Reverse Engineering the Hacker News Ranking Algorithm\n",
    "\n",
    "This notebook is a companion to the article [Reverse Engineering the Hacker News Ranking Algorithm](http://sangaline.com/post/reverse-engineering-the-hacker-news-ranking-algorithm).\n",
    "The code used to generate all of the figures in that post are included here, as is any analysis logic.\n",
    "Beyond that, annotations will be fairly minimal and you will need to refer to the article for more context.\n",
    "It probably makes the most sense to read the article first and then come back here if you're wondering how a specific plot was generated or if you need a starting point for doing your own analysis."
   ]
  },
  {
   "cell_type": "code",
   "execution_count": null,
   "metadata": {
    "collapsed": true
   },
   "outputs": [],
   "source": []
  }
 ],
 "metadata": {
  "kernelspec": {
   "display_name": "Python 3",
   "language": "python",
   "name": "python3"
  },
  "language_info": {
   "codemirror_mode": {
    "name": "ipython",
    "version": 3
   },
   "file_extension": ".py",
   "mimetype": "text/x-python",
   "name": "python",
   "nbconvert_exporter": "python",
   "pygments_lexer": "ipython3",
   "version": "3.6.0"
  }
 },
 "nbformat": 4,
 "nbformat_minor": 2
}
